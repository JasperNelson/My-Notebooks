{
 "cells": [
  {
   "cell_type": "code",
   "execution_count": 134,
   "id": "3289e27f-4df9-464f-9e4b-59521ea46e64",
   "metadata": {},
   "outputs": [
    {
     "name": "stdout",
     "output_type": "stream",
     "text": [
      "('90210', '60601', '94102')\n"
     ]
    },
    {
     "data": {
      "text/plain": [
       "('94102', '60601', '90210')"
      ]
     },
     "execution_count": 134,
     "metadata": {},
     "output_type": "execute_result"
    }
   ],
   "source": [
    "#Question 1a : Given a list of cities and their corresponding ZIP codes, extract the ZIP codes and organize them into a tuple. \n",
    "\n",
    "zipcode = {'90210':'Beverly Hills, CA', '60601': 'Chicago, IL', '94102':'San Francisco, CA'}\n",
    "n=()\n",
    "for x in zipcode:\n",
    "    n=n+(x,)\n",
    "print(n)\n",
    "    \n",
    "    \n",
    "#Question 1b: Rearrange the tuple in reverse order from 1a. \n",
    "tuple((list(n))[::-1])\n",
    "\n",
    "\n",
    "\n",
    "\n"
   ]
  },
  {
   "cell_type": "code",
   "execution_count": 1,
   "id": "0119a72c-2b26-469e-a8f2-e0b36b62935f",
   "metadata": {},
   "outputs": [
    {
     "name": "stdout",
     "output_type": "stream",
     "text": [
      "Eating eggs on Thursday for choir practice was recommended.apples\n"
     ]
    },
    {
     "data": {
      "text/plain": [
       "59"
      ]
     },
     "execution_count": 1,
     "metadata": {},
     "output_type": "execute_result"
    }
   ],
   "source": [
    "# question 2 : Here is a list of groceries. The user needs help extracting the text \"apples\" and placing the text \"apples\" into the sentence below.\n",
    "#  Please use regular expressions. ( regex ) \n",
    "import re \n",
    "import requests \n",
    "import random\n",
    "random_text = \"Milk, eggs, bread, butter, cheese, fresh fruits (e.g., apples, bananas), fresh vegetables (e.g., lettuce, tomatoes), rice, pasta, canned tomatoes, chicken breasts or thighs, ground beef or turkey, cooking oil (e.g., olive oil), spices (e.g., salt, pepper), snacks (e.g., chips, nuts)\" \n",
    "give=requests.get(\"https://randomwordgenerator.com/json/sentences.json\")\n",
    "something=re.search(r\"ap.les\", random_text)\n",
    "d=(str((give.json())[\"data\"][random.randrange(1,700)][\"sentence\"])+str(something.group(0)))\n",
    "print(d)\n",
    "\n",
    "\n",
    "\n",
    "#What is the starting and ending position of the text \"apples\" in random_text? Paste below 👇 \n",
    "d.find(\"apples\")\n",
    "      \n"
   ]
  },
  {
   "cell_type": "code",
   "execution_count": 64,
   "id": "bae211a8-20d1-44c2-97bf-5ed98fc4cd74",
   "metadata": {},
   "outputs": [
    {
     "name": "stdout",
     "output_type": "stream",
     "text": [
      "<p class=\"site-title\"><a href=\"https://littlespoonfarm.com/\">Little Spoon Farm</a></p>\n",
      "<p class=\"entry-meta\"><time class=\"entry-time\">Aug 1, 2021</time> | Modified: <time class=\"entry-modified-time\">Jun 15, 2022</time> by <span class=\"entry-author\"><a class=\"entry-author-link\" href=\"https://littlespoonfarm.com/about/\" rel=\"author\"><span class=\"entry-author-name\">Amy</span></a></span> | <span class=\"entry-comments-link\"><a href=\"https://littlespoonfarm.com/apple-pie-recipe/#comments\">162 Comments</a></span> | This website earns income from ads, affiliates, and sponsorships.</p>\n",
      "<p>This recipe is hands down, my favorite <strong>apple pie</strong> made from scratch! Juicy apple slices are coated in sugar and spices and then baked to perfection inside a flaky homemade pie crust. </p>\n",
      "<p>No need to worry about mushy apples or a soggy pie crust because this apple pie bakes to perfection every single time!</p>\n",
      "<p>Just like a good <a href=\"https://littlespoonfarm.com/pumpkin-pie-recipe/\">pumpkin pie</a> or <a href=\"https://littlespoonfarm.com/pecan-pie-recipe/\">pecan pie</a>, we all need an easy to make apple pie recipe. Whether you want to serve a classic holiday dessert for your Thanksgiving or Christmas gathering or, you're just in the mood for the irresistible taste of cinnamon and apples, I guarantee you've found yours here!</p>\n",
      "<p><em>(Amazon <a href=\"https://littlespoonfarm.com/privacy-policy/\">affiliate links</a>)</em> - Check out my favorite <a href=\"https://littlespoonfarm.com/kitchen-essentials/\">kitchen essentials</a>.</p>\n",
      "<p>When it comes to the perfect apple pie there are 2 questions you need to ask. What kind of apples are best for apple pie and how to get an amazing, flaky pie crust. </p>\n",
      "<p>There are so many apple varieties to choose from when making apple pie. Here a few common varieties that you can find at your local grocery store!</p>\n",
      "<p>A great apple pie starts with an amazing pie crust. We love to use either this <a href=\"https://littlespoonfarm.com/all-butter-pie-crust-recipe/\">all-butter pie crust</a> or our <a href=\"https://littlespoonfarm.com/sourdough-pie-crust-recipe/\">sourdough pie crust</a>. Each of these pie crust use butter and just a little bit of vinegar to produce a tender, flaky pie crust that just can't be beat! </p>\n",
      "<p>The crust can be made a few days in advance and kept in the fridge or frozen until ready to assemble your apple pie.</p>\n",
      "<p>If you decide to use a store-bought crust, make sure to follow the directions on the packaging to determine when to take the crust out of the fridge in order to handle it more easily. </p>\n",
      "<p class=\"has-text-align-left\">Peel, core and slice the apples. In a large mixing bowl, gently toss the apple slices, granulated sugar, light brown sugar, flour, cinnamon, nutmeg, lemon zest and lemon juice until well combined and set aside. Place the oven rack in the center position and preheat your oven to 400°F.</p>\n",
      "<p>Remove the discs of pie crust from the fridge and let set at room temperature for 5-10 minutes. On a lightly floured surface, roll one of the discs into a 12\" circle that is â\" thick. Place the crust into the bottom of the deep dish pie plate.</p>\n",
      "<p>Spoon the apple pie filling into the crust, <em>discarding any liquid at the bottom of the mixing bowl</em>. Spread the apple slices evenly.</p>\n",
      "<p>On a lightly floured surface, roll the second disc of pie dough into a 12\" circle that is â\" thick. Place the crust over the apple pie filling. </p>\n",
      "<p>Use a sharp knife to<strong> </strong>trim the excess dough from around the edge of the pie plate. Use your fingers to pull both the bottom and top pie crust <em>up</em> <em>and slightly away</em> from the edge of the pie dish. Fold the edge <em>under itself</em> and press down to seal the edge in place. Rotate the pie a quarter turn and repeat until edges are neatly tucked in.</p>\n",
      "<p>Place the pie dish onto a baking sheet and gently brush the surface of the dough with the egg wash and sprinkle sanding sugar on top. Use a sharp knife to cut vents in the crust.</p>\n",
      "<p>In order to protect the edges of the pie from over-browning, use a long strip of aluminum foil (about <em>38\" long</em>) by <em>folding it in half lengthwise and then folding in half again, lengthwise</em>. Wrap it around the edges of the pie plate and over the edges of the crust. This is referred to as a \"pie shield\".</p>\n",
      "<p>Bake the pie at 400°F for 25 minutes. Remove the pie shield, lower the oven temperature to 375°F and bake an additional 30-35 minutes. </p>\n",
      "<p>You'll know the apple pie is done when the crust is a lovely golden brown and the juice is bubbling up the sides of the pan.</p>\n",
      "<p class=\"yellow\"><strong>TIP: </strong>I recommend using a pie shield during the first 25 minutes of baking instead the second half of baking to prevent burning yourself when placing the shield onto the pie dish.</p>\n",
      "<p>The pie can be made up to 2 days ahead of time and stored, loosely covered, at room temperature or covered in the refrigerator for up to 5 days.</p>\n",
      "<p class=\"schema-faq-answer\">When placing the apple mixture into the pie crust, make sure to spoon the apples out of the bowl and discard any excess liquid that is in the bottom of the bowl. The extra liquid can cause the crust to become soggy. The apples will continue to release moisture as the pie bakes.</p>\n",
      "<p class=\"schema-faq-answer\">There is no need to cook apples before making the pie. The apples will cook during the baking process.</p>\n",
      "<p class=\"schema-faq-answer\">Let the baked pie cool completely and then place in the freezer, uncovered. When completely frozen, tightly wrap the pie in a few layers of plastic wrap. You can also use a large freezer bag. A baked apple pie will stay good in the freezer for up to 4 months.<br/>When you are ready to serve, let the pie thaw at room temperature for one hour. Reheat the pie in the oven at 375°F on the lowest oven rack for 35 to 40 minutes or until heated through.</p>\n",
      "<p class=\"schema-faq-answer\">An unbaked apple pie will stay good in the freezer for up to 2 months. Follow <strong>steps 1-7</strong> of the recipe, except DO NOT cut vents in the top of the pie crust.<br/>Place the unbaked pie in the freezer, uncovered. After one hour, remove from the freezer, tightly wrap with plastic wrap or use a plastic freezer bag. Freezing the unbaked pie before wrapping will help keep the shape of the dough around the edges.<br/>When you're ready to bake, do not thaw. Cut vents in the top of the crust and bake at 425°F for 15 minutes. Reduce the heat to 375°F and bake an additional 35-45 minutes or until the crust is golden brown and the juice begins to bubble. </p>\n",
      "<p class=\"schema-faq-answer\">When making the apple pie filling, cut the apples into Â½\" thick slices. Thick apple slices create a sturdy pie that keeps the crust from <em>caving</em> into the middle.</p>\n",
      "<p class=\"schema-faq-answer\">Granny Smith apples are the best apples for making apple pie because they are super tart and very firm. Firm apples hold up well during the baking process unlike varieties such as McIntosh which kind of turn to mush.<br/>Other great varieties are: Honeycrisp, Jonathan, Jazz, Golden Delicious, Jonagold or Pink Lady.</p>\n",
      "<p class=\"comment-notes\"><span id=\"email-notes\">Your email address will not be published.</span> <span class=\"required-field-message\">Required fields are marked <span class=\"required\">*</span></span></p>\n",
      "<p class=\"comment-form-comment\"><label for=\"comment\">Comment <span class=\"required\">*</span></label> <textarea autocomplete=\"new-password\" cols=\"45\" id=\"c5c2589843\" maxlength=\"65525\" name=\"c5c2589843\" required=\"\" rows=\"8\"></textarea><textarea aria-hidden=\"true\" aria-label=\"hp-comment\" autocomplete=\"new-password\" id=\"comment\" name=\"comment\" style=\"padding:0 !important;clip:rect(1px, 1px, 1px, 1px) !important;position:absolute !important;white-space:nowrap !important;height:1px !important;width:1px !important;overflow:hidden !important;\" tabindex=\"-1\"></textarea><script data-noptimize=\"\" type=\"rocketlazyloadscript\">document.getElementById(\"comment\").setAttribute( \"id\", \"a5d430107394bf638deab986472fc2c6\" );document.getElementById(\"c5c2589843\").setAttribute( \"id\", \"comment\" );</script></p>\n",
      "<p class=\"comment-form-author\"><label for=\"author\">Name <span class=\"required\">*</span></label> <input autocomplete=\"name\" id=\"author\" maxlength=\"245\" name=\"author\" required=\"\" size=\"30\" type=\"text\" value=\"\"/></p>\n",
      "<p class=\"comment-form-email\"><label for=\"email\">Email <span class=\"required\">*</span></label> <input aria-describedby=\"email-notes\" autocomplete=\"email\" id=\"email\" maxlength=\"100\" name=\"email\" required=\"\" size=\"30\" type=\"email\" value=\"\"/></p>\n",
      "<p class=\"form-submit\"><input class=\"submit\" id=\"submit\" name=\"submit\" type=\"submit\" value=\"Post Comment\"> <input id=\"comment_post_ID\" name=\"comment_post_ID\" type=\"hidden\" value=\"8269\">\n",
      "<input id=\"comment_parent\" name=\"comment_parent\" type=\"hidden\" value=\"0\">\n",
      "</input></input></input></p>\n",
      "<p class=\"comment-author\">\n",
      "<span class=\"comment-author-name\">Karin</span> <span class=\"says\">says</span> </p>\n",
      "<p class=\"comment-meta\"><time class=\"comment-time\">March 25, 2024 at 8:55 pm</time></p>\n",
      "<p><img alt=\"5 stars\" class=\"wprm-comment-rating perfmatters-lazy\" data-src=\"https://littlespoonfarm.com/wp-content/plugins/wp-recipe-maker/assets/icons/rating/stars-5.svg\" height=\"16\" src=\"data:image/svg+xml,%3Csvg%20xmlns='http://www.w3.org/2000/svg'%20width='80'%20height='16'%20viewBox='0%200%2080%2016'%3E%3C/svg%3E\" width=\"80\"/><noscript><img alt=\"5 stars\" class=\"wprm-comment-rating\" height=\"16\" src=\"https://littlespoonfarm.com/wp-content/plugins/wp-recipe-maker/assets/icons/rating/stars-5.svg\" width=\"80\"/></noscript><br>\n",
      "Thanks for this great and simple recipe!  I stopped using processed sugars years ago, so replaced granulated sugar and brown sugar with 2/3 cup honey, and added an extra tablespoon flour to counter the extra moisture.</br></p>\n",
      "<p class=\"comment-author\">\n",
      "<span class=\"comment-author-name\">Cristina Kub</span> <span class=\"says\">says</span> </p>\n",
      "<p class=\"comment-meta\"><time class=\"comment-time\">March 19, 2024 at 2:58 pm</time></p>\n",
      "<p><img alt=\"5 stars\" class=\"wprm-comment-rating perfmatters-lazy\" data-src=\"https://littlespoonfarm.com/wp-content/plugins/wp-recipe-maker/assets/icons/rating/stars-5.svg\" height=\"16\" src=\"data:image/svg+xml,%3Csvg%20xmlns='http://www.w3.org/2000/svg'%20width='80'%20height='16'%20viewBox='0%200%2080%2016'%3E%3C/svg%3E\" width=\"80\"/><noscript><img alt=\"5 stars\" class=\"wprm-comment-rating\" height=\"16\" src=\"https://littlespoonfarm.com/wp-content/plugins/wp-recipe-maker/assets/icons/rating/stars-5.svg\" width=\"80\"/></noscript><br>\n",
      "This recipe is the very best apple pie recipe I ever made let alone the easiest. I am old so I have made many over the years. I am so happy I found this one and will always make this recipe for my family when they are in the mood for pie. Many thanks to Amy Duska for this recipe!</br></p>\n",
      "<p class=\"comment-author\">\n",
      "<span class=\"comment-author-name\">Katherine</span> <span class=\"says\">says</span> </p>\n",
      "<p class=\"comment-meta\"><time class=\"comment-time\">March 14, 2024 at 7:25 pm</time></p>\n",
      "<p><img alt=\"5 stars\" class=\"wprm-comment-rating perfmatters-lazy\" data-src=\"https://littlespoonfarm.com/wp-content/plugins/wp-recipe-maker/assets/icons/rating/stars-5.svg\" height=\"16\" src=\"data:image/svg+xml,%3Csvg%20xmlns='http://www.w3.org/2000/svg'%20width='80'%20height='16'%20viewBox='0%200%2080%2016'%3E%3C/svg%3E\" width=\"80\"/><noscript><img alt=\"5 stars\" class=\"wprm-comment-rating\" height=\"16\" src=\"https://littlespoonfarm.com/wp-content/plugins/wp-recipe-maker/assets/icons/rating/stars-5.svg\" width=\"80\"/></noscript><br>\n",
      "great recipe awesome thanks ðâ¤ï¸ so much</br></p>\n",
      "<p>Iâm a Certified Nutritionist and a passionate sourdough baker. I love helping others on their sourdough journey.</p>\n",
      "<p>Here youâll find simple sourdough recipes along with some of our favorite ways to prepare nutritious food for your family.</p>\n",
      "<p><a class=\"red-outline-btn\" href=\"/about\">Read More <img class=\"perfmatters-lazy\" data-src=\"https://littlespoonfarm.com/wp-content/uploads/2021/10/Group-840.svg\" decoding=\"async\" src=\"data:image/svg+xml,%3Csvg%20xmlns='http://www.w3.org/2000/svg'%20width='0'%20height='0'%20viewBox='0%200%200%200'%3E%3C/svg%3E\"/><noscript><img decoding=\"async\" src=\"https://littlespoonfarm.com/wp-content/uploads/2021/10/Group-840.svg\"/></noscript></a></p>\n",
      "<p class=\"more-from-category\"><a href=\"https://littlespoonfarm.com/category/featured/\" title=\"Featured\">Browse All Comfort Food</a></p>\n",
      "<p>copyright 2023 little spoon farm | designed by <a href=\"https://graceandvinestudios.com\" rel=\"nofollow\">grace + vine studios</a> | <a href=\"https://littlespoonfarm.com/privacy-policy\">privacy policy</a></p>\n"
     ]
    }
   ],
   "source": [
    "# question 3 : \n",
    "#I have a link to a recipe for making apple pie, perfect for celebrating Pi Day. \n",
    "#I'm seeking assistance with extracting the 'recipeIngredient' section from the website. \n",
    "#A helpful hint is that we could utilize the 'json' module for this task.\n",
    "from bs4 import BeautifulSoup as bs\n",
    "import requests\n",
    "import time\n",
    "import re\n",
    "headers = {'User-Agent': 'Chrome/58.0.3029.110'}\n",
    "# help you get started\n",
    "# Use a session to persist cookies\n",
    "session = requests.Session()\n",
    "session.headers.update(headers)\n",
    "time.sleep(1)\n",
    "site = session.get(\"https://littlespoonfarm.com/apple-pie-recipe\") # happy PI day \n",
    "soup = bs(site.text)\n",
    "prett = soup\n",
    "x=((prett.find_all('p')))\n",
    "for z in x:\n",
    "    print(z)\n",
    "\n",
    "\n",
    "\n"
   ]
  },
  {
   "cell_type": "code",
   "execution_count": 65,
   "id": "96c51918-ae9b-493a-9803-88087a586dad",
   "metadata": {},
   "outputs": [
    {
     "name": "stdout",
     "output_type": "stream",
     "text": [
      "{-70, -60, 36, 74, 42, -52, 12, -20, -82, 18, -46, -14, 88, -38}\n",
      "{-95, -31, -29, 69, 41, 91, 79, -67, 17, -13, -73, 25, 27, -35, 63}\n",
      "{9, 2, 5, 6}\n"
     ]
    }
   ],
   "source": [
    "# question 4 :\n",
    "# Here are two sets \n",
    "#4a: Create a code for the user who wants to extract only even numbers from setA.\n",
    "setA = {-82, 45, -27, 69, -14, 83, 57, -91, 36, -3, 18, -60, 74, -38, 5, -70, 29, 91, -52, 12, -46, 63, -9, 42, 77, -65, 21, -37, 88, -20}\n",
    "newset= set()\n",
    "for x in setA:\n",
    "    if x%2==0:\n",
    "        newset.add(x)\n",
    "print(newset)\n",
    "    \n",
    "\n",
    "\n",
    "#4b: Create a code for the user who wants to extract only odd numbers from setB.\n",
    "setB = {-88, 17, -42, 69, -31, 58, 74, -95, 25, -13, 36, -67, 82, -50, 41, -73, 6, 91, -29, 52, -84, 27, -20, 63, 79, -58, 12, -35, 88, -16}\n",
    "newset = set()\n",
    "for x in setB:\n",
    "    if x%2!=0:\n",
    "        newset.add(x)\n",
    "print(newset)\n",
    "    \n",
    "\n",
    "\n",
    "      \n",
    "#4c: Find the intersection between set2 and set3.\n",
    "\n",
    "set2 = {1,2,4,5,6,7,8,9}\n",
    "set3 = {2,9,5,6,15,13}\n",
    "newset=set()\n",
    "for x in set2:\n",
    "    if x in set3:\n",
    "        newset.add(x)\n",
    "print(newset)\n",
    "\n",
    "\n",
    "\n"
   ]
  },
  {
   "cell_type": "code",
   "execution_count": 66,
   "id": "39186245-0a7e-48c4-b0e5-c0b2e8cdb8ed",
   "metadata": {},
   "outputs": [],
   "source": [
    "# Question 5\n",
    "#Upload your completed lab to your GitHub and submit the link to yout Git Hub account."
   ]
  }
 ],
 "metadata": {
  "kernelspec": {
   "display_name": "Python 3 (ipykernel)",
   "language": "python",
   "name": "python3"
  },
  "language_info": {
   "codemirror_mode": {
    "name": "ipython",
    "version": 3
   },
   "file_extension": ".py",
   "mimetype": "text/x-python",
   "name": "python",
   "nbconvert_exporter": "python",
   "pygments_lexer": "ipython3",
   "version": "3.11.8"
  }
 },
 "nbformat": 4,
 "nbformat_minor": 5
}
